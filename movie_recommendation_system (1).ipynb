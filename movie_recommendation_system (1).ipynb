{
  "nbformat": 4,
  "nbformat_minor": 0,
  "metadata": {
    "colab": {
      "provenance": []
    },
    "kernelspec": {
      "name": "python3",
      "display_name": "Python 3"
    },
    "language_info": {
      "name": "python"
    }
  },
  "cells": [
    {
      "cell_type": "code",
      "execution_count": null,
      "metadata": {
        "colab": {
          "base_uri": "https://localhost:8080/"
        },
        "id": "RIbHkg2q6Zko",
        "outputId": "d655d4bf-9cc6-45fa-f858-8515822c12cf"
      },
      "outputs": [
        {
          "output_type": "stream",
          "name": "stdout",
          "text": [
            "Requirement already satisfied: numpy in /usr/local/lib/python3.10/dist-packages (1.26.4)\n",
            "Requirement already satisfied: pandas in /usr/local/lib/python3.10/dist-packages (2.2.2)\n",
            "Requirement already satisfied: scikit-learn in /usr/local/lib/python3.10/dist-packages (1.6.0)\n",
            "Requirement already satisfied: python-dateutil>=2.8.2 in /usr/local/lib/python3.10/dist-packages (from pandas) (2.8.2)\n",
            "Requirement already satisfied: pytz>=2020.1 in /usr/local/lib/python3.10/dist-packages (from pandas) (2024.2)\n",
            "Requirement already satisfied: tzdata>=2022.7 in /usr/local/lib/python3.10/dist-packages (from pandas) (2024.2)\n",
            "Requirement already satisfied: scipy>=1.6.0 in /usr/local/lib/python3.10/dist-packages (from scikit-learn) (1.13.1)\n",
            "Requirement already satisfied: joblib>=1.2.0 in /usr/local/lib/python3.10/dist-packages (from scikit-learn) (1.4.2)\n",
            "Requirement already satisfied: threadpoolctl>=3.1.0 in /usr/local/lib/python3.10/dist-packages (from scikit-learn) (3.5.0)\n",
            "Requirement already satisfied: six>=1.5 in /usr/local/lib/python3.10/dist-packages (from python-dateutil>=2.8.2->pandas) (1.17.0)\n"
          ]
        }
      ],
      "source": [
        "pip install numpy pandas scikit-learn\n"
      ]
    },
    {
      "cell_type": "code",
      "source": [
        "import numpy as np\n",
        "import pandas as pd\n",
        "import difflib\n",
        "from sklearn.feature_extraction.text import TfidfVectorizer\n",
        "from sklearn.metrics.pairwise import cosine_similarity\n",
        "import os\n"
      ],
      "metadata": {
        "id": "hkOExJMu6txh"
      },
      "execution_count": null,
      "outputs": []
    },
    {
      "cell_type": "code",
      "source": [
        "movies_data = pd.read_csv(\"/content/movies.csv\")\n",
        "\n",
        "# Display the first few rows of the dataset\n",
        "print(movies_data.head())\n"
      ],
      "metadata": {
        "colab": {
          "base_uri": "https://localhost:8080/"
        },
        "id": "2bRRFzMy6xCO",
        "outputId": "d4e6f3fd-e025-4c44-c417-83a034f4f05f"
      },
      "execution_count": null,
      "outputs": [
        {
          "output_type": "stream",
          "name": "stdout",
          "text": [
            "   index     budget                                    genres  \\\n",
            "0      0  237000000  Action Adventure Fantasy Science Fiction   \n",
            "1      1  300000000                  Adventure Fantasy Action   \n",
            "2      2  245000000                    Action Adventure Crime   \n",
            "3      3  250000000               Action Crime Drama Thriller   \n",
            "4      4  260000000          Action Adventure Science Fiction   \n",
            "\n",
            "                                       homepage      id  \\\n",
            "0                   http://www.avatarmovie.com/   19995   \n",
            "1  http://disney.go.com/disneypictures/pirates/     285   \n",
            "2   http://www.sonypictures.com/movies/spectre/  206647   \n",
            "3            http://www.thedarkknightrises.com/   49026   \n",
            "4          http://movies.disney.com/john-carter   49529   \n",
            "\n",
            "                                            keywords original_language  \\\n",
            "0  culture clash future space war space colony so...                en   \n",
            "1  ocean drug abuse exotic island east india trad...                en   \n",
            "2         spy based on novel secret agent sequel mi6                en   \n",
            "3  dc comics crime fighter terrorist secret ident...                en   \n",
            "4  based on novel mars medallion space travel pri...                en   \n",
            "\n",
            "                             original_title  \\\n",
            "0                                    Avatar   \n",
            "1  Pirates of the Caribbean: At World's End   \n",
            "2                                   Spectre   \n",
            "3                     The Dark Knight Rises   \n",
            "4                               John Carter   \n",
            "\n",
            "                                            overview  popularity  ... runtime  \\\n",
            "0  In the 22nd century, a paraplegic Marine is di...  150.437577  ...   162.0   \n",
            "1  Captain Barbossa, long believed to be dead, ha...  139.082615  ...   169.0   \n",
            "2  A cryptic message from Bond’s past sends him o...  107.376788  ...   148.0   \n",
            "3  Following the death of District Attorney Harve...  112.312950  ...   165.0   \n",
            "4  John Carter is a war-weary, former military ca...   43.926995  ...   132.0   \n",
            "\n",
            "                                    spoken_languages    status  \\\n",
            "0  [{\"iso_639_1\": \"en\", \"name\": \"English\"}, {\"iso...  Released   \n",
            "1           [{\"iso_639_1\": \"en\", \"name\": \"English\"}]  Released   \n",
            "2  [{\"iso_639_1\": \"fr\", \"name\": \"Fran\\u00e7ais\"},...  Released   \n",
            "3           [{\"iso_639_1\": \"en\", \"name\": \"English\"}]  Released   \n",
            "4           [{\"iso_639_1\": \"en\", \"name\": \"English\"}]  Released   \n",
            "\n",
            "                                          tagline  \\\n",
            "0                     Enter the World of Pandora.   \n",
            "1  At the end of the world, the adventure begins.   \n",
            "2                           A Plan No One Escapes   \n",
            "3                                 The Legend Ends   \n",
            "4            Lost in our world, found in another.   \n",
            "\n",
            "                                      title vote_average vote_count  \\\n",
            "0                                    Avatar          7.2      11800   \n",
            "1  Pirates of the Caribbean: At World's End          6.9       4500   \n",
            "2                                   Spectre          6.3       4466   \n",
            "3                     The Dark Knight Rises          7.6       9106   \n",
            "4                               John Carter          6.1       2124   \n",
            "\n",
            "                                                cast  \\\n",
            "0  Sam Worthington Zoe Saldana Sigourney Weaver S...   \n",
            "1  Johnny Depp Orlando Bloom Keira Knightley Stel...   \n",
            "2  Daniel Craig Christoph Waltz L\\u00e9a Seydoux ...   \n",
            "3  Christian Bale Michael Caine Gary Oldman Anne ...   \n",
            "4  Taylor Kitsch Lynn Collins Samantha Morton Wil...   \n",
            "\n",
            "                                                crew           director  \n",
            "0  [{'name': 'Stephen E. Rivkin', 'gender': 0, 'd...      James Cameron  \n",
            "1  [{'name': 'Dariusz Wolski', 'gender': 2, 'depa...     Gore Verbinski  \n",
            "2  [{'name': 'Thomas Newman', 'gender': 2, 'depar...         Sam Mendes  \n",
            "3  [{'name': 'Hans Zimmer', 'gender': 2, 'departm...  Christopher Nolan  \n",
            "4  [{'name': 'Andrew Stanton', 'gender': 2, 'depa...     Andrew Stanton  \n",
            "\n",
            "[5 rows x 24 columns]\n"
          ]
        }
      ]
    },
    {
      "cell_type": "code",
      "source": [
        "print(\"\\nMissing values in each column:\")\n",
        "print(movies_data.isna().sum())"
      ],
      "metadata": {
        "colab": {
          "base_uri": "https://localhost:8080/"
        },
        "id": "bjxVv59J9Z5w",
        "outputId": "f470e201-14f3-4b6b-c20e-5fa447e69d52"
      },
      "execution_count": null,
      "outputs": [
        {
          "output_type": "stream",
          "name": "stdout",
          "text": [
            "\n",
            "Missing values in each column:\n",
            "index                      0\n",
            "budget                     0\n",
            "genres                     0\n",
            "homepage                3091\n",
            "id                         0\n",
            "keywords                   0\n",
            "original_language          0\n",
            "original_title             0\n",
            "overview                   3\n",
            "popularity                 0\n",
            "production_companies       0\n",
            "production_countries       0\n",
            "release_date               1\n",
            "revenue                    0\n",
            "runtime                    2\n",
            "spoken_languages           0\n",
            "status                     0\n",
            "tagline                    0\n",
            "title                      0\n",
            "vote_average               0\n",
            "vote_count                 0\n",
            "cast                       0\n",
            "crew                       0\n",
            "director                   0\n",
            "dtype: int64\n"
          ]
        }
      ]
    },
    {
      "cell_type": "code",
      "source": [
        "# Loading the dataset\n",
        "movies_data = pd.read_csv(\"movies.csv\")\n",
        "\n",
        "# Display the first few rows of the dataset\n",
        "print(\"First few rows of the dataset:\")\n",
        "print(movies_data.head())\n",
        "\n",
        "# Handle missing values\n",
        "\n",
        "movies_data['homepage'] = movies_data['homepage'].fillna('')\n",
        "movies_data['overview'] = movies_data['overview'].fillna('No Overview')\n",
        "movies_data['runtime'] = movies_data['runtime'].fillna('not mention')\n",
        "movies_data['release_date'] = movies_data['release_date'].fillna('Unknown')\n",
        "movies_data['keywords'] = movies_data['keywords'].fillna('no keywords')\n",
        "movies_data['tagline'] = movies_data['tagline'].fillna('no tagline')\n",
        "movies_data['cast'] = movies_data['cast'].fillna('Unknown')\n",
        "movies_data['director'] = movies_data['director'].fillna('Unknown')\n",
        "\n",
        "# Remove movies where 'genres' column is missing\n",
        "movies_data_cleaned = movies_data[movies_data['genres'].notna()]\n",
        "\n",
        "print(\"\\nMissing values in column after cleaning:\")\n",
        "print(movies_data_cleaned.isna().sum())\n",
        "\n",
        "# Display the cleaned dataset preview\n",
        "print(\"\\nCleaned dataset preview:\")\n",
        "print(movies_data.head())\n",
        "\n"
      ],
      "metadata": {
        "colab": {
          "base_uri": "https://localhost:8080/"
        },
        "id": "Cig2M8Jm-Yhx",
        "outputId": "9264f3ec-d87f-475e-f455-14fb582dbca5"
      },
      "execution_count": null,
      "outputs": [
        {
          "output_type": "stream",
          "name": "stdout",
          "text": [
            "First few rows of the dataset:\n",
            "   index     budget                                    genres  \\\n",
            "0      0  237000000  Action Adventure Fantasy Science Fiction   \n",
            "1      1  300000000                  Adventure Fantasy Action   \n",
            "2      2  245000000                    Action Adventure Crime   \n",
            "3      3  250000000               Action Crime Drama Thriller   \n",
            "4      4  260000000          Action Adventure Science Fiction   \n",
            "\n",
            "                                       homepage      id  \\\n",
            "0                   http://www.avatarmovie.com/   19995   \n",
            "1  http://disney.go.com/disneypictures/pirates/     285   \n",
            "2   http://www.sonypictures.com/movies/spectre/  206647   \n",
            "3            http://www.thedarkknightrises.com/   49026   \n",
            "4          http://movies.disney.com/john-carter   49529   \n",
            "\n",
            "                                            keywords original_language  \\\n",
            "0  culture clash future space war space colony so...                en   \n",
            "1  ocean drug abuse exotic island east india trad...                en   \n",
            "2         spy based on novel secret agent sequel mi6                en   \n",
            "3  dc comics crime fighter terrorist secret ident...                en   \n",
            "4  based on novel mars medallion space travel pri...                en   \n",
            "\n",
            "                             original_title  \\\n",
            "0                                    Avatar   \n",
            "1  Pirates of the Caribbean: At World's End   \n",
            "2                                   Spectre   \n",
            "3                     The Dark Knight Rises   \n",
            "4                               John Carter   \n",
            "\n",
            "                                            overview  popularity  ... runtime  \\\n",
            "0  In the 22nd century, a paraplegic Marine is di...  150.437577  ...   162.0   \n",
            "1  Captain Barbossa, long believed to be dead, ha...  139.082615  ...   169.0   \n",
            "2  A cryptic message from Bond’s past sends him o...  107.376788  ...   148.0   \n",
            "3  Following the death of District Attorney Harve...  112.312950  ...   165.0   \n",
            "4  John Carter is a war-weary, former military ca...   43.926995  ...   132.0   \n",
            "\n",
            "                                    spoken_languages    status  \\\n",
            "0  [{\"iso_639_1\": \"en\", \"name\": \"English\"}, {\"iso...  Released   \n",
            "1           [{\"iso_639_1\": \"en\", \"name\": \"English\"}]  Released   \n",
            "2  [{\"iso_639_1\": \"fr\", \"name\": \"Fran\\u00e7ais\"},...  Released   \n",
            "3           [{\"iso_639_1\": \"en\", \"name\": \"English\"}]  Released   \n",
            "4           [{\"iso_639_1\": \"en\", \"name\": \"English\"}]  Released   \n",
            "\n",
            "                                          tagline  \\\n",
            "0                     Enter the World of Pandora.   \n",
            "1  At the end of the world, the adventure begins.   \n",
            "2                           A Plan No One Escapes   \n",
            "3                                 The Legend Ends   \n",
            "4            Lost in our world, found in another.   \n",
            "\n",
            "                                      title vote_average vote_count  \\\n",
            "0                                    Avatar          7.2      11800   \n",
            "1  Pirates of the Caribbean: At World's End          6.9       4500   \n",
            "2                                   Spectre          6.3       4466   \n",
            "3                     The Dark Knight Rises          7.6       9106   \n",
            "4                               John Carter          6.1       2124   \n",
            "\n",
            "                                                cast  \\\n",
            "0  Sam Worthington Zoe Saldana Sigourney Weaver S...   \n",
            "1  Johnny Depp Orlando Bloom Keira Knightley Stel...   \n",
            "2  Daniel Craig Christoph Waltz L\\u00e9a Seydoux ...   \n",
            "3  Christian Bale Michael Caine Gary Oldman Anne ...   \n",
            "4  Taylor Kitsch Lynn Collins Samantha Morton Wil...   \n",
            "\n",
            "                                                crew           director  \n",
            "0  [{'name': 'Stephen E. Rivkin', 'gender': 0, 'd...      James Cameron  \n",
            "1  [{'name': 'Dariusz Wolski', 'gender': 2, 'depa...     Gore Verbinski  \n",
            "2  [{'name': 'Thomas Newman', 'gender': 2, 'depar...         Sam Mendes  \n",
            "3  [{'name': 'Hans Zimmer', 'gender': 2, 'departm...  Christopher Nolan  \n",
            "4  [{'name': 'Andrew Stanton', 'gender': 2, 'depa...     Andrew Stanton  \n",
            "\n",
            "[5 rows x 24 columns]\n",
            "\n",
            "Missing values in column after cleaning:\n",
            "index                   0\n",
            "budget                  0\n",
            "genres                  0\n",
            "homepage                0\n",
            "id                      0\n",
            "keywords                0\n",
            "original_language       0\n",
            "original_title          0\n",
            "overview                0\n",
            "popularity              0\n",
            "production_companies    0\n",
            "production_countries    0\n",
            "release_date            0\n",
            "revenue                 0\n",
            "runtime                 0\n",
            "spoken_languages        0\n",
            "status                  0\n",
            "tagline                 0\n",
            "title                   0\n",
            "vote_average            0\n",
            "vote_count              0\n",
            "cast                    0\n",
            "crew                    0\n",
            "director                0\n",
            "dtype: int64\n",
            "\n",
            "Cleaned dataset preview:\n",
            "   index     budget                                    genres  \\\n",
            "0      0  237000000  Action Adventure Fantasy Science Fiction   \n",
            "1      1  300000000                  Adventure Fantasy Action   \n",
            "2      2  245000000                    Action Adventure Crime   \n",
            "3      3  250000000               Action Crime Drama Thriller   \n",
            "4      4  260000000          Action Adventure Science Fiction   \n",
            "\n",
            "                                       homepage      id  \\\n",
            "0                   http://www.avatarmovie.com/   19995   \n",
            "1  http://disney.go.com/disneypictures/pirates/     285   \n",
            "2   http://www.sonypictures.com/movies/spectre/  206647   \n",
            "3            http://www.thedarkknightrises.com/   49026   \n",
            "4          http://movies.disney.com/john-carter   49529   \n",
            "\n",
            "                                            keywords original_language  \\\n",
            "0  culture clash future space war space colony so...                en   \n",
            "1  ocean drug abuse exotic island east india trad...                en   \n",
            "2         spy based on novel secret agent sequel mi6                en   \n",
            "3  dc comics crime fighter terrorist secret ident...                en   \n",
            "4  based on novel mars medallion space travel pri...                en   \n",
            "\n",
            "                             original_title  \\\n",
            "0                                    Avatar   \n",
            "1  Pirates of the Caribbean: At World's End   \n",
            "2                                   Spectre   \n",
            "3                     The Dark Knight Rises   \n",
            "4                               John Carter   \n",
            "\n",
            "                                            overview  popularity  ... runtime  \\\n",
            "0  In the 22nd century, a paraplegic Marine is di...  150.437577  ...   162.0   \n",
            "1  Captain Barbossa, long believed to be dead, ha...  139.082615  ...   169.0   \n",
            "2  A cryptic message from Bond’s past sends him o...  107.376788  ...   148.0   \n",
            "3  Following the death of District Attorney Harve...  112.312950  ...   165.0   \n",
            "4  John Carter is a war-weary, former military ca...   43.926995  ...   132.0   \n",
            "\n",
            "                                    spoken_languages    status  \\\n",
            "0  [{\"iso_639_1\": \"en\", \"name\": \"English\"}, {\"iso...  Released   \n",
            "1           [{\"iso_639_1\": \"en\", \"name\": \"English\"}]  Released   \n",
            "2  [{\"iso_639_1\": \"fr\", \"name\": \"Fran\\u00e7ais\"},...  Released   \n",
            "3           [{\"iso_639_1\": \"en\", \"name\": \"English\"}]  Released   \n",
            "4           [{\"iso_639_1\": \"en\", \"name\": \"English\"}]  Released   \n",
            "\n",
            "                                          tagline  \\\n",
            "0                     Enter the World of Pandora.   \n",
            "1  At the end of the world, the adventure begins.   \n",
            "2                           A Plan No One Escapes   \n",
            "3                                 The Legend Ends   \n",
            "4            Lost in our world, found in another.   \n",
            "\n",
            "                                      title vote_average vote_count  \\\n",
            "0                                    Avatar          7.2      11800   \n",
            "1  Pirates of the Caribbean: At World's End          6.9       4500   \n",
            "2                                   Spectre          6.3       4466   \n",
            "3                     The Dark Knight Rises          7.6       9106   \n",
            "4                               John Carter          6.1       2124   \n",
            "\n",
            "                                                cast  \\\n",
            "0  Sam Worthington Zoe Saldana Sigourney Weaver S...   \n",
            "1  Johnny Depp Orlando Bloom Keira Knightley Stel...   \n",
            "2  Daniel Craig Christoph Waltz L\\u00e9a Seydoux ...   \n",
            "3  Christian Bale Michael Caine Gary Oldman Anne ...   \n",
            "4  Taylor Kitsch Lynn Collins Samantha Morton Wil...   \n",
            "\n",
            "                                                crew           director  \n",
            "0  [{'name': 'Stephen E. Rivkin', 'gender': 0, 'd...      James Cameron  \n",
            "1  [{'name': 'Dariusz Wolski', 'gender': 2, 'depa...     Gore Verbinski  \n",
            "2  [{'name': 'Thomas Newman', 'gender': 2, 'depar...         Sam Mendes  \n",
            "3  [{'name': 'Hans Zimmer', 'gender': 2, 'departm...  Christopher Nolan  \n",
            "4  [{'name': 'Andrew Stanton', 'gender': 2, 'depa...     Andrew Stanton  \n",
            "\n",
            "[5 rows x 24 columns]\n"
          ]
        }
      ]
    },
    {
      "cell_type": "code",
      "source": [
        "# Check for duplicate rows\n",
        "print(\"\\nNumber of duplicate rows:\")\n",
        "print(movies_data.duplicated().sum())\n",
        "# Drop duplicate rows if any\n",
        "movies_data.drop_duplicates(inplace=True)"
      ],
      "metadata": {
        "colab": {
          "base_uri": "https://localhost:8080/"
        },
        "id": "zormx4319duO",
        "outputId": "2d8e3cf1-c12a-4fbe-f99a-88d2cb61774f"
      },
      "execution_count": null,
      "outputs": [
        {
          "output_type": "stream",
          "name": "stdout",
          "text": [
            "\n",
            "Number of duplicate rows:\n",
            "0\n"
          ]
        }
      ]
    },
    {
      "cell_type": "code",
      "source": [
        "# Replace missing values in text columns with an empty string\n",
        "text_columns = ['genres', 'keywords', 'tagline', 'cast', 'director']\n",
        "for column in text_columns:\n",
        "    movies_data[column] = movies_data[column].fillna('')"
      ],
      "metadata": {
        "id": "-qhmMg_d9ma7"
      },
      "execution_count": null,
      "outputs": []
    },
    {
      "cell_type": "code",
      "source": [
        "# Check data types of columns\n",
        "print(\"\\nData types of each column:\")\n",
        "print(movies_data.dtypes)"
      ],
      "metadata": {
        "colab": {
          "base_uri": "https://localhost:8080/"
        },
        "id": "pRao69e-9qh6",
        "outputId": "521e0fe7-720e-4459-9c49-330b1d1e2b6e"
      },
      "execution_count": null,
      "outputs": [
        {
          "output_type": "stream",
          "name": "stdout",
          "text": [
            "\n",
            "Data types of each column:\n",
            "index                     int64\n",
            "budget                    int64\n",
            "genres                   object\n",
            "homepage                 object\n",
            "id                        int64\n",
            "keywords                 object\n",
            "original_language        object\n",
            "original_title           object\n",
            "overview                 object\n",
            "popularity              float64\n",
            "production_companies     object\n",
            "production_countries     object\n",
            "release_date             object\n",
            "revenue                   int64\n",
            "runtime                  object\n",
            "spoken_languages         object\n",
            "status                   object\n",
            "tagline                  object\n",
            "title                    object\n",
            "vote_average            float64\n",
            "vote_count                int64\n",
            "cast                     object\n",
            "crew                     object\n",
            "director                 object\n",
            "dtype: object\n"
          ]
        }
      ]
    },
    {
      "cell_type": "code",
      "source": [
        "print(\"\\nCleaned dataset preview:\")\n",
        "print(movies_data.head(5))"
      ],
      "metadata": {
        "colab": {
          "base_uri": "https://localhost:8080/"
        },
        "id": "oFhHDCrx9xu1",
        "outputId": "4aba8e15-862a-4ff5-9154-4a3794122cf6"
      },
      "execution_count": null,
      "outputs": [
        {
          "output_type": "stream",
          "name": "stdout",
          "text": [
            "\n",
            "Cleaned dataset preview:\n",
            "   index     budget                                    genres  \\\n",
            "0      0  237000000  Action Adventure Fantasy Science Fiction   \n",
            "1      1  300000000                  Adventure Fantasy Action   \n",
            "2      2  245000000                    Action Adventure Crime   \n",
            "3      3  250000000               Action Crime Drama Thriller   \n",
            "4      4  260000000          Action Adventure Science Fiction   \n",
            "\n",
            "                                       homepage      id  \\\n",
            "0                   http://www.avatarmovie.com/   19995   \n",
            "1  http://disney.go.com/disneypictures/pirates/     285   \n",
            "2   http://www.sonypictures.com/movies/spectre/  206647   \n",
            "3            http://www.thedarkknightrises.com/   49026   \n",
            "4          http://movies.disney.com/john-carter   49529   \n",
            "\n",
            "                                            keywords original_language  \\\n",
            "0  culture clash future space war space colony so...                en   \n",
            "1  ocean drug abuse exotic island east india trad...                en   \n",
            "2         spy based on novel secret agent sequel mi6                en   \n",
            "3  dc comics crime fighter terrorist secret ident...                en   \n",
            "4  based on novel mars medallion space travel pri...                en   \n",
            "\n",
            "                             original_title  \\\n",
            "0                                    Avatar   \n",
            "1  Pirates of the Caribbean: At World's End   \n",
            "2                                   Spectre   \n",
            "3                     The Dark Knight Rises   \n",
            "4                               John Carter   \n",
            "\n",
            "                                            overview  popularity  ... runtime  \\\n",
            "0  In the 22nd century, a paraplegic Marine is di...  150.437577  ...   162.0   \n",
            "1  Captain Barbossa, long believed to be dead, ha...  139.082615  ...   169.0   \n",
            "2  A cryptic message from Bond’s past sends him o...  107.376788  ...   148.0   \n",
            "3  Following the death of District Attorney Harve...  112.312950  ...   165.0   \n",
            "4  John Carter is a war-weary, former military ca...   43.926995  ...   132.0   \n",
            "\n",
            "                                    spoken_languages    status  \\\n",
            "0  [{\"iso_639_1\": \"en\", \"name\": \"English\"}, {\"iso...  Released   \n",
            "1           [{\"iso_639_1\": \"en\", \"name\": \"English\"}]  Released   \n",
            "2  [{\"iso_639_1\": \"fr\", \"name\": \"Fran\\u00e7ais\"},...  Released   \n",
            "3           [{\"iso_639_1\": \"en\", \"name\": \"English\"}]  Released   \n",
            "4           [{\"iso_639_1\": \"en\", \"name\": \"English\"}]  Released   \n",
            "\n",
            "                                          tagline  \\\n",
            "0                     Enter the World of Pandora.   \n",
            "1  At the end of the world, the adventure begins.   \n",
            "2                           A Plan No One Escapes   \n",
            "3                                 The Legend Ends   \n",
            "4            Lost in our world, found in another.   \n",
            "\n",
            "                                      title vote_average vote_count  \\\n",
            "0                                    Avatar          7.2      11800   \n",
            "1  Pirates of the Caribbean: At World's End          6.9       4500   \n",
            "2                                   Spectre          6.3       4466   \n",
            "3                     The Dark Knight Rises          7.6       9106   \n",
            "4                               John Carter          6.1       2124   \n",
            "\n",
            "                                                cast  \\\n",
            "0  Sam Worthington Zoe Saldana Sigourney Weaver S...   \n",
            "1  Johnny Depp Orlando Bloom Keira Knightley Stel...   \n",
            "2  Daniel Craig Christoph Waltz L\\u00e9a Seydoux ...   \n",
            "3  Christian Bale Michael Caine Gary Oldman Anne ...   \n",
            "4  Taylor Kitsch Lynn Collins Samantha Morton Wil...   \n",
            "\n",
            "                                                crew           director  \n",
            "0  [{'name': 'Stephen E. Rivkin', 'gender': 0, 'd...      James Cameron  \n",
            "1  [{'name': 'Dariusz Wolski', 'gender': 2, 'depa...     Gore Verbinski  \n",
            "2  [{'name': 'Thomas Newman', 'gender': 2, 'depar...         Sam Mendes  \n",
            "3  [{'name': 'Hans Zimmer', 'gender': 2, 'departm...  Christopher Nolan  \n",
            "4  [{'name': 'Andrew Stanton', 'gender': 2, 'depa...     Andrew Stanton  \n",
            "\n",
            "[5 rows x 24 columns]\n"
          ]
        }
      ]
    },
    {
      "cell_type": "code",
      "source": [
        "# Selecting relevant columns for recommendation\n",
        "selected_features = ['genres', 'keywords', 'tagline', 'cast', 'director']\n",
        "\n",
        "# Check for missing values\n",
        "print(movies_data[selected_features].isna().sum())\n",
        "\n",
        "# Replace missing values with an empty string\n",
        "for feature in selected_features:\n",
        "    movies_data[feature] = movies_data[feature].fillna('')\n"
      ],
      "metadata": {
        "colab": {
          "base_uri": "https://localhost:8080/"
        },
        "id": "QtHz44ne60Z1",
        "outputId": "707ae157-fa88-42ef-ac0e-bd2b4021da4c"
      },
      "execution_count": null,
      "outputs": [
        {
          "output_type": "stream",
          "name": "stdout",
          "text": [
            "genres      0\n",
            "keywords    0\n",
            "tagline     0\n",
            "cast        0\n",
            "director    0\n",
            "dtype: int64\n"
          ]
        }
      ]
    },
    {
      "cell_type": "code",
      "source": [
        "# Combine all selected features into a single string\n",
        "combined_features = movies_data['genres'] + ' ' + movies_data['keywords'] + ' ' + movies_data['tagline'] + ' ' + movies_data['cast'] + ' ' + movies_data['director']\n"
      ],
      "metadata": {
        "id": "h0FmUfUk64gC"
      },
      "execution_count": null,
      "outputs": []
    },
    {
      "cell_type": "code",
      "source": [
        "# Initialize TfidfVectorizer\n",
        "vectorizer = TfidfVectorizer()\n",
        "\n",
        "# Convert the combined features to TF-IDF feature vectors\n",
        "feature_vectors = vectorizer.fit_transform(combined_features)\n",
        "\n",
        "# Print the shape of the feature vectors\n",
        "print(feature_vectors.shape)\n"
      ],
      "metadata": {
        "colab": {
          "base_uri": "https://localhost:8080/"
        },
        "id": "-7OMENCn66sm",
        "outputId": "f2473f9a-02e5-4ee6-d330-702c2d7b2617"
      },
      "execution_count": null,
      "outputs": [
        {
          "output_type": "stream",
          "name": "stdout",
          "text": [
            "(4803, 17320)\n"
          ]
        }
      ]
    },
    {
      "cell_type": "code",
      "source": [
        "# Calculate cosine similarity between all movies\n",
        "similarity = cosine_similarity(feature_vectors)\n",
        "\n",
        "# Print the shape of the similarity matrix\n",
        "print(similarity.shape)\n"
      ],
      "metadata": {
        "colab": {
          "base_uri": "https://localhost:8080/"
        },
        "id": "jKrkvR2J686e",
        "outputId": "67a91a1e-38bc-44e1-83f2-cfe8bc60ffbc"
      },
      "execution_count": null,
      "outputs": [
        {
          "output_type": "stream",
          "name": "stdout",
          "text": [
            "(4803, 4803)\n"
          ]
        }
      ]
    },
    {
      "cell_type": "code",
      "source": [
        "import pandas as pd\n",
        "\n",
        "# Assuming movies_data is already loaded with columns like 'title', 'genres', 'popularity', etc.\n",
        "# Example: movies_data = pd.read_csv('path_to_your_dataset.csv')\n",
        "\n",
        "# Display a menu with predefined genres for the user to choose from\n",
        "print(\"\\nSelect the type of movie you prefer:\")\n",
        "print(\"1. Action\")\n",
        "print(\"2. Comedy\")\n",
        "print(\"3. Romance\")\n",
        "print(\"4. Horror\")\n",
        "print(\"5. Sci-Fi\")\n",
        "print(\"6. Drama\")\n",
        "print(\"7. Thriller\")\n",
        "print(\"8. Animation\")\n",
        "print(\"9. Adventure\")\n",
        "\n",
        "# Get user's genre choice\n",
        "genre_choice = input(\"Enter the number corresponding to your preferred genre: \").strip().capitalize()\n",
        "\n",
        "genre_map = {\n",
        "    '1': 'Action',\n",
        "    '2': 'Comedy',\n",
        "    '3': 'Romance',\n",
        "    '4': 'Horror',\n",
        "    '5': 'Sci-Fi',\n",
        "    '6': 'Drama',\n",
        "    '7': 'Thriller',\n",
        "    '8': 'Animation',\n",
        "    '9': 'Adventure'\n",
        "}\n",
        "\n",
        "# Get the genre preference based on the user's choice or default to 'Animation' if invalid input\n",
        "genre_preference = genre_map.get(genre_choice, 'Animation')\n",
        "\n",
        "# Ask the user about their mood for recommendations\n",
        "mood_choice = input(\"\\nDo you want highly recommended movies or less recommended movies? (Enter 'highly' or 'less'): \").strip().lower()\n",
        "\n",
        "# Check if 'genres' column exists in the dataset\n",
        "if 'genres' not in movies_data.columns:\n",
        "    print(\"The 'genres' column is missing from the dataset.\")\n",
        "else:\n",
        "    # Clean the genres column to make sure it's in a consistent format (string type)\n",
        "    movies_data['genres'] = movies_data['genres'].astype(str)\n",
        "\n",
        "    # Filter movies by genre\n",
        "    genre_filtered_movies = movies_data[movies_data['genres'].str.contains(genre_preference, case=False, na=False)]\n",
        "\n",
        "    # Check if any movies are found for the selected genre\n",
        "    if genre_filtered_movies.empty:\n",
        "        print(f\"No movies found for the genre: {genre_preference}\")\n",
        "    else:\n",
        "        # Sort the filtered movies by popularity (or rating)\n",
        "        genre_filtered_movies_sorted = genre_filtered_movies.sort_values(by='popularity', ascending=False)\n",
        "\n",
        "        # Filter movies based on user's mood choice\n",
        "        if mood_choice == 'highly':\n",
        "            # Show the top 50% highly recommended movies based on popularity\n",
        "            top_50_percent = genre_filtered_movies_sorted.head(int(len(genre_filtered_movies_sorted) * 0.5))\n",
        "            print(f\"\\nTop Highly Recommended {genre_choice} Movies for You: \\n\")\n",
        "        elif mood_choice == 'less':\n",
        "            # Show the bottom 50% less recommended movies based on popularity\n",
        "            bottom_50_percent = genre_filtered_movies_sorted.tail(int(len(genre_filtered_movies_sorted) * 0.5))\n",
        "            print(f\"\\nTop Less Recommended {genre_choice} Movies for You: \\n\")\n",
        "        else:\n",
        "            print(\"Invalid mood choice. Showing the highly recommended movies by default.\")\n",
        "            top_50_percent = genre_filtered_movies_sorted.head(int(len(genre_filtered_movies_sorted) * 0.5))\n",
        "            print(f\"\\nTop Highly Recommended {genre_choice} Movies for You: \\n\")\n",
        "\n",
        "        # Show only up to 15 movies initially\n",
        "        movies_to_show = top_50_percent if mood_choice == 'highly' else bottom_50_percent\n",
        "        movies_to_show = movies_to_show.head(15)  # Limit to 15 movies or fewer if there are less\n",
        "\n",
        "        # Display the first 15 movies\n",
        "        for i, movie in enumerate(movies_to_show['title'], start=1):\n",
        "            print(f\"{i}. {movie}\")\n"
      ],
      "metadata": {
        "colab": {
          "base_uri": "https://localhost:8080/"
        },
        "id": "6Y4qFidOHRJy",
        "outputId": "15353425-b07b-406d-de68-9d3d39136755"
      },
      "execution_count": null,
      "outputs": [
        {
          "output_type": "stream",
          "name": "stdout",
          "text": [
            "\n",
            "Select the type of movie you prefer:\n",
            "1. Action\n",
            "2. Comedy\n",
            "3. Romance\n",
            "4. Horror\n",
            "5. Sci-Fi\n",
            "6. Drama\n",
            "7. Thriller\n",
            "8. Animation\n",
            "9. Adventure\n",
            "Enter the number corresponding to your preferred genre: comedy\n",
            "\n",
            "Do you want highly recommended movies or less recommended movies? (Enter 'highly' or 'less'): highly\n",
            "\n",
            "Top Highly Recommended Comedy Movies for You: \n",
            "\n",
            "1. Minions\n",
            "2. Big Hero 6\n",
            "3. Frozen\n",
            "4. Despicable Me 2\n",
            "5. Inside Out\n",
            "6. Brave\n",
            "7. Spirited Away\n",
            "8. Despicable Me\n",
            "9. Monsters, Inc.\n",
            "10. How to Train Your Dragon 2\n",
            "11. Ice Age\n",
            "12. Aladdin\n",
            "13. Up\n",
            "14. The Lion King\n",
            "15. The Adventures of Tintin\n"
          ]
        }
      ]
    },
    {
      "cell_type": "code",
      "source": [
        "!pip install nbconvert\n"
      ],
      "metadata": {
        "colab": {
          "base_uri": "https://localhost:8080/"
        },
        "id": "Sqp-2-czSYuJ",
        "outputId": "8ae372db-5b01-4e1f-c6d3-d49816fb500c"
      },
      "execution_count": null,
      "outputs": [
        {
          "output_type": "stream",
          "name": "stdout",
          "text": [
            "Requirement already satisfied: nbconvert in /usr/local/lib/python3.10/dist-packages (7.16.4)\n",
            "Requirement already satisfied: beautifulsoup4 in /usr/local/lib/python3.10/dist-packages (from nbconvert) (4.12.3)\n",
            "Requirement already satisfied: bleach!=5.0.0 in /usr/local/lib/python3.10/dist-packages (from nbconvert) (6.2.0)\n",
            "Requirement already satisfied: defusedxml in /usr/local/lib/python3.10/dist-packages (from nbconvert) (0.7.1)\n",
            "Requirement already satisfied: jinja2>=3.0 in /usr/local/lib/python3.10/dist-packages (from nbconvert) (3.1.4)\n",
            "Requirement already satisfied: jupyter-core>=4.7 in /usr/local/lib/python3.10/dist-packages (from nbconvert) (5.7.2)\n",
            "Requirement already satisfied: jupyterlab-pygments in /usr/local/lib/python3.10/dist-packages (from nbconvert) (0.3.0)\n",
            "Requirement already satisfied: markupsafe>=2.0 in /usr/local/lib/python3.10/dist-packages (from nbconvert) (3.0.2)\n",
            "Requirement already satisfied: mistune<4,>=2.0.3 in /usr/local/lib/python3.10/dist-packages (from nbconvert) (3.0.2)\n",
            "Requirement already satisfied: nbclient>=0.5.0 in /usr/local/lib/python3.10/dist-packages (from nbconvert) (0.10.1)\n",
            "Requirement already satisfied: nbformat>=5.7 in /usr/local/lib/python3.10/dist-packages (from nbconvert) (5.10.4)\n",
            "Requirement already satisfied: packaging in /usr/local/lib/python3.10/dist-packages (from nbconvert) (24.2)\n",
            "Requirement already satisfied: pandocfilters>=1.4.1 in /usr/local/lib/python3.10/dist-packages (from nbconvert) (1.5.1)\n",
            "Requirement already satisfied: pygments>=2.4.1 in /usr/local/lib/python3.10/dist-packages (from nbconvert) (2.18.0)\n",
            "Requirement already satisfied: tinycss2 in /usr/local/lib/python3.10/dist-packages (from nbconvert) (1.4.0)\n",
            "Requirement already satisfied: traitlets>=5.1 in /usr/local/lib/python3.10/dist-packages (from nbconvert) (5.7.1)\n",
            "Requirement already satisfied: webencodings in /usr/local/lib/python3.10/dist-packages (from bleach!=5.0.0->nbconvert) (0.5.1)\n",
            "Requirement already satisfied: platformdirs>=2.5 in /usr/local/lib/python3.10/dist-packages (from jupyter-core>=4.7->nbconvert) (4.3.6)\n",
            "Requirement already satisfied: jupyter-client>=6.1.12 in /usr/local/lib/python3.10/dist-packages (from nbclient>=0.5.0->nbconvert) (6.1.12)\n",
            "Requirement already satisfied: fastjsonschema>=2.15 in /usr/local/lib/python3.10/dist-packages (from nbformat>=5.7->nbconvert) (2.21.1)\n",
            "Requirement already satisfied: jsonschema>=2.6 in /usr/local/lib/python3.10/dist-packages (from nbformat>=5.7->nbconvert) (4.23.0)\n",
            "Requirement already satisfied: soupsieve>1.2 in /usr/local/lib/python3.10/dist-packages (from beautifulsoup4->nbconvert) (2.6)\n",
            "Requirement already satisfied: attrs>=22.2.0 in /usr/local/lib/python3.10/dist-packages (from jsonschema>=2.6->nbformat>=5.7->nbconvert) (24.3.0)\n",
            "Requirement already satisfied: jsonschema-specifications>=2023.03.6 in /usr/local/lib/python3.10/dist-packages (from jsonschema>=2.6->nbformat>=5.7->nbconvert) (2024.10.1)\n",
            "Requirement already satisfied: referencing>=0.28.4 in /usr/local/lib/python3.10/dist-packages (from jsonschema>=2.6->nbformat>=5.7->nbconvert) (0.35.1)\n",
            "Requirement already satisfied: rpds-py>=0.7.1 in /usr/local/lib/python3.10/dist-packages (from jsonschema>=2.6->nbformat>=5.7->nbconvert) (0.22.3)\n",
            "Requirement already satisfied: pyzmq>=13 in /usr/local/lib/python3.10/dist-packages (from jupyter-client>=6.1.12->nbclient>=0.5.0->nbconvert) (24.0.1)\n",
            "Requirement already satisfied: python-dateutil>=2.1 in /usr/local/lib/python3.10/dist-packages (from jupyter-client>=6.1.12->nbclient>=0.5.0->nbconvert) (2.8.2)\n",
            "Requirement already satisfied: tornado>=4.1 in /usr/local/lib/python3.10/dist-packages (from jupyter-client>=6.1.12->nbclient>=0.5.0->nbconvert) (6.3.3)\n",
            "Requirement already satisfied: six>=1.5 in /usr/local/lib/python3.10/dist-packages (from python-dateutil>=2.1->jupyter-client>=6.1.12->nbclient>=0.5.0->nbconvert) (1.17.0)\n"
          ]
        }
      ]
    },
    {
      "cell_type": "code",
      "source": [
        "from google.colab import drive\n",
        "import shutil\n",
        "\n",
        "# Save the notebook to a specific location in your Google Drive (optional)\n",
        "notebook_name = '/content/Untitled12.ipynb'\n",
        "output_html = '/content/Untitled-12.html'  # You can change the path here\n",
        "\n",
        "# Convert the notebook to HTML\n",
        "!jupyter nbconvert --to html {notebook_name} --output {output_html}\n"
      ],
      "metadata": {
        "colab": {
          "base_uri": "https://localhost:8080/"
        },
        "id": "Go11zqH5SgWI",
        "outputId": "d0362b62-ac11-4cfa-c9ec-58bd9199c6dd"
      },
      "execution_count": null,
      "outputs": [
        {
          "output_type": "stream",
          "name": "stdout",
          "text": [
            "[NbConvertApp] Converting notebook /content/Untitled12.ipynb to html\n",
            "[NbConvertApp] Writing 324750 bytes to /content/Untitled-12.html\n"
          ]
        }
      ]
    }
  ]
}